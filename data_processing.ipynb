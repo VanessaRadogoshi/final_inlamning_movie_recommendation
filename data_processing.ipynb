{
 "cells": [
  {
   "cell_type": "code",
   "execution_count": 1,
   "id": "initial_id",
   "metadata": {
    "collapsed": true,
    "ExecuteTime": {
     "end_time": "2024-02-07T11:46:58.364873400Z",
     "start_time": "2024-02-07T11:46:56.930171Z"
    }
   },
   "outputs": [
    {
     "name": "stdout",
     "output_type": "stream",
     "text": [
      "Index(['adult', 'belongs_to_collection', 'budget', 'genres', 'homepage', 'id',\n",
      "       'imdb_id', 'original_language', 'original_title', 'overview',\n",
      "       'popularity', 'poster_path', 'production_companies',\n",
      "       'production_countries', 'release_date', 'revenue', 'runtime',\n",
      "       'spoken_languages', 'status', 'tagline', 'title', 'video',\n",
      "       'vote_average', 'vote_count'],\n",
      "      dtype='object')\n"
     ]
    },
    {
     "name": "stderr",
     "output_type": "stream",
     "text": [
      "C:\\Users\\vanes\\AppData\\Local\\Temp\\ipykernel_13708\\1553191116.py:3: DeprecationWarning: \n",
      "Pyarrow will become a required dependency of pandas in the next major release of pandas (pandas 3.0),\n",
      "(to allow more performant data types, such as the Arrow string type, and better interoperability with other libraries)\n",
      "but was not found to be installed on your system.\n",
      "If this would cause problems for you,\n",
      "please provide us feedback at https://github.com/pandas-dev/pandas/issues/54466\n",
      "        \n",
      "  import pandas as pd\n"
     ]
    }
   ],
   "source": [
    "#Importing the libraries that I will need to process and clean my data in order to create a well-structured DataFrame for my movie recommendation app.\n",
    "\n",
    "import pandas as pd   \n",
    "import numpy as np\n",
    "\n",
    "#Reading my movies_metadata.csv file into a DataFrame.\n",
    "movies_metadata = pd.read_csv('movies_metadata.csv')   \n",
    "\n",
    "print(movies_metadata.columns) #I want to see the exact names of the columns in my movies_metadata DataFrame."
   ]
  },
  {
   "cell_type": "code",
   "outputs": [
    {
     "name": "stdout",
     "output_type": "stream",
     "text": [
      "998 24\n"
     ]
    },
    {
     "data": {
      "text/plain": "   adult                              belongs_to_collection    budget  \\\n0  False  {'id': 10194, 'name': 'Toy Story Collection', ...  30000000   \n1  False                                                NaN  65000000   \n2  False  {'id': 119050, 'name': 'Grumpy Old Men Collect...         0   \n3  False                                                NaN  16000000   \n4  False  {'id': 96871, 'name': 'Father of the Bride Col...         0   \n\n                                              genres  \\\n0  [{'id': 16, 'name': 'Animation'}, {'id': 35, '...   \n1  [{'id': 12, 'name': 'Adventure'}, {'id': 14, '...   \n2  [{'id': 10749, 'name': 'Romance'}, {'id': 35, ...   \n3  [{'id': 35, 'name': 'Comedy'}, {'id': 18, 'nam...   \n4                     [{'id': 35, 'name': 'Comedy'}]   \n\n                               homepage     id    imdb_id original_language  \\\n0  http://toystory.disney.com/toy-story    862  tt0114709                en   \n1                                   NaN   8844  tt0113497                en   \n2                                   NaN  15602  tt0113228                en   \n3                                   NaN  31357  tt0114885                en   \n4                                   NaN  11862  tt0113041                en   \n\n                original_title  \\\n0                    Toy Story   \n1                      Jumanji   \n2             Grumpier Old Men   \n3            Waiting to Exhale   \n4  Father of the Bride Part II   \n\n                                            overview  ...  release_date  \\\n0  Led by Woody, Andy's toys live happily in his ...  ...    1995-10-30   \n1  When siblings Judy and Peter discover an encha...  ...    1995-12-15   \n2  A family wedding reignites the ancient feud be...  ...    1995-12-22   \n3  Cheated on, mistreated and stepped on, the wom...  ...    1995-12-22   \n4  Just when George Banks has recovered from his ...  ...    1995-02-10   \n\n     revenue runtime                                   spoken_languages  \\\n0  373554033    81.0           [{'iso_639_1': 'en', 'name': 'English'}]   \n1  262797249   104.0  [{'iso_639_1': 'en', 'name': 'English'}, {'iso...   \n2          0   101.0           [{'iso_639_1': 'en', 'name': 'English'}]   \n3   81452156   127.0           [{'iso_639_1': 'en', 'name': 'English'}]   \n4   76578911   106.0           [{'iso_639_1': 'en', 'name': 'English'}]   \n\n     status                                            tagline  \\\n0  Released                                                NaN   \n1  Released          Roll the dice and unleash the excitement!   \n2  Released  Still Yelling. Still Fighting. Still Ready for...   \n3  Released  Friends are the people who let you be yourself...   \n4  Released  Just When His World Is Back To Normal... He's ...   \n\n                         title  video vote_average vote_count  \n0                    Toy Story  False          7.7       5415  \n1                      Jumanji  False          6.9       2413  \n2             Grumpier Old Men  False          6.5         92  \n3            Waiting to Exhale  False          6.1         34  \n4  Father of the Bride Part II  False          5.7        173  \n\n[5 rows x 24 columns]",
      "text/html": "<div>\n<style scoped>\n    .dataframe tbody tr th:only-of-type {\n        vertical-align: middle;\n    }\n\n    .dataframe tbody tr th {\n        vertical-align: top;\n    }\n\n    .dataframe thead th {\n        text-align: right;\n    }\n</style>\n<table border=\"1\" class=\"dataframe\">\n  <thead>\n    <tr style=\"text-align: right;\">\n      <th></th>\n      <th>adult</th>\n      <th>belongs_to_collection</th>\n      <th>budget</th>\n      <th>genres</th>\n      <th>homepage</th>\n      <th>id</th>\n      <th>imdb_id</th>\n      <th>original_language</th>\n      <th>original_title</th>\n      <th>overview</th>\n      <th>...</th>\n      <th>release_date</th>\n      <th>revenue</th>\n      <th>runtime</th>\n      <th>spoken_languages</th>\n      <th>status</th>\n      <th>tagline</th>\n      <th>title</th>\n      <th>video</th>\n      <th>vote_average</th>\n      <th>vote_count</th>\n    </tr>\n  </thead>\n  <tbody>\n    <tr>\n      <th>0</th>\n      <td>False</td>\n      <td>{'id': 10194, 'name': 'Toy Story Collection', ...</td>\n      <td>30000000</td>\n      <td>[{'id': 16, 'name': 'Animation'}, {'id': 35, '...</td>\n      <td>http://toystory.disney.com/toy-story</td>\n      <td>862</td>\n      <td>tt0114709</td>\n      <td>en</td>\n      <td>Toy Story</td>\n      <td>Led by Woody, Andy's toys live happily in his ...</td>\n      <td>...</td>\n      <td>1995-10-30</td>\n      <td>373554033</td>\n      <td>81.0</td>\n      <td>[{'iso_639_1': 'en', 'name': 'English'}]</td>\n      <td>Released</td>\n      <td>NaN</td>\n      <td>Toy Story</td>\n      <td>False</td>\n      <td>7.7</td>\n      <td>5415</td>\n    </tr>\n    <tr>\n      <th>1</th>\n      <td>False</td>\n      <td>NaN</td>\n      <td>65000000</td>\n      <td>[{'id': 12, 'name': 'Adventure'}, {'id': 14, '...</td>\n      <td>NaN</td>\n      <td>8844</td>\n      <td>tt0113497</td>\n      <td>en</td>\n      <td>Jumanji</td>\n      <td>When siblings Judy and Peter discover an encha...</td>\n      <td>...</td>\n      <td>1995-12-15</td>\n      <td>262797249</td>\n      <td>104.0</td>\n      <td>[{'iso_639_1': 'en', 'name': 'English'}, {'iso...</td>\n      <td>Released</td>\n      <td>Roll the dice and unleash the excitement!</td>\n      <td>Jumanji</td>\n      <td>False</td>\n      <td>6.9</td>\n      <td>2413</td>\n    </tr>\n    <tr>\n      <th>2</th>\n      <td>False</td>\n      <td>{'id': 119050, 'name': 'Grumpy Old Men Collect...</td>\n      <td>0</td>\n      <td>[{'id': 10749, 'name': 'Romance'}, {'id': 35, ...</td>\n      <td>NaN</td>\n      <td>15602</td>\n      <td>tt0113228</td>\n      <td>en</td>\n      <td>Grumpier Old Men</td>\n      <td>A family wedding reignites the ancient feud be...</td>\n      <td>...</td>\n      <td>1995-12-22</td>\n      <td>0</td>\n      <td>101.0</td>\n      <td>[{'iso_639_1': 'en', 'name': 'English'}]</td>\n      <td>Released</td>\n      <td>Still Yelling. Still Fighting. Still Ready for...</td>\n      <td>Grumpier Old Men</td>\n      <td>False</td>\n      <td>6.5</td>\n      <td>92</td>\n    </tr>\n    <tr>\n      <th>3</th>\n      <td>False</td>\n      <td>NaN</td>\n      <td>16000000</td>\n      <td>[{'id': 35, 'name': 'Comedy'}, {'id': 18, 'nam...</td>\n      <td>NaN</td>\n      <td>31357</td>\n      <td>tt0114885</td>\n      <td>en</td>\n      <td>Waiting to Exhale</td>\n      <td>Cheated on, mistreated and stepped on, the wom...</td>\n      <td>...</td>\n      <td>1995-12-22</td>\n      <td>81452156</td>\n      <td>127.0</td>\n      <td>[{'iso_639_1': 'en', 'name': 'English'}]</td>\n      <td>Released</td>\n      <td>Friends are the people who let you be yourself...</td>\n      <td>Waiting to Exhale</td>\n      <td>False</td>\n      <td>6.1</td>\n      <td>34</td>\n    </tr>\n    <tr>\n      <th>4</th>\n      <td>False</td>\n      <td>{'id': 96871, 'name': 'Father of the Bride Col...</td>\n      <td>0</td>\n      <td>[{'id': 35, 'name': 'Comedy'}]</td>\n      <td>NaN</td>\n      <td>11862</td>\n      <td>tt0113041</td>\n      <td>en</td>\n      <td>Father of the Bride Part II</td>\n      <td>Just when George Banks has recovered from his ...</td>\n      <td>...</td>\n      <td>1995-02-10</td>\n      <td>76578911</td>\n      <td>106.0</td>\n      <td>[{'iso_639_1': 'en', 'name': 'English'}]</td>\n      <td>Released</td>\n      <td>Just When His World Is Back To Normal... He's ...</td>\n      <td>Father of the Bride Part II</td>\n      <td>False</td>\n      <td>5.7</td>\n      <td>173</td>\n    </tr>\n  </tbody>\n</table>\n<p>5 rows × 24 columns</p>\n</div>"
     },
     "execution_count": 2,
     "metadata": {},
     "output_type": "execute_result"
    }
   ],
   "source": [
    "num_rows, num_columns = movies_metadata.shape  #Using the shape attribute to figure out how many rows and columns my DataFrame has. The first element shows the number of rows and the second shows the number of columns. \n",
    "print(num_rows,num_columns) \n",
    "\n",
    "movies_metadata.head()  #Looking at the first five rows of the movies_metadata DataFrame. "
   ],
   "metadata": {
    "collapsed": false,
    "ExecuteTime": {
     "end_time": "2024-02-07T11:47:18.052644500Z",
     "start_time": "2024-02-07T11:47:18.007500900Z"
    }
   },
   "id": "b231882e525c4faf",
   "execution_count": 2
  },
  {
   "cell_type": "code",
   "outputs": [
    {
     "name": "stdout",
     "output_type": "stream",
     "text": [
      "Index(['genres', 'id', 'original_title', 'overview', 'release_date'], dtype='object')\n"
     ]
    }
   ],
   "source": [
    "#In this step I want to drop some of the columns that will not further be of use.\n",
    "\n",
    "#First I want to create a copy of the original movies_metadata DataFrame because it might be that I will need it later in my analysis again.              The copy of movies_metadata is called df. On this new DataFrame I will perform different operations, leaving the original DataFrame unchanged.\n",
    "\n",
    "df = movies_metadata.copy()\n",
    "\n",
    "#In the next step I am performing the deletion of some of the columns. The axis=1 specifies that the operation should be performed on columns, not rows. The inplace=True modifies the 'df' DataFrame directly and not the original DataFrame movies_metadata.\n",
    "\n",
    "\n",
    "df.drop(['adult','belongs_to_collection','budget','homepage','imdb_id','poster_path','production_companies','production_countries','revenue','runtime','spoken_languages','status','tagline','title','video','original_language','popularity','vote_average', 'vote_count'], axis=1, inplace=True)\n",
    "\n",
    "#After running this code, 'df' will be a DataFrame with the specified removed columns, while the original movies_metadata DataFrame remains unchanged.\n",
    "\n",
    "print(df.columns)  #I want to see the exact names of the columns in my 'df' DataFrame.\n"
   ],
   "metadata": {
    "collapsed": false,
    "ExecuteTime": {
     "end_time": "2024-02-07T11:48:52.207041400Z",
     "start_time": "2024-02-07T11:48:52.191497Z"
    }
   },
   "id": "81eae1b65fadcb33",
   "execution_count": 3
  },
  {
   "cell_type": "code",
   "outputs": [
    {
     "name": "stdout",
     "output_type": "stream",
     "text": [
      "998 5\n"
     ]
    },
    {
     "data": {
      "text/plain": "                                              genres     id  \\\n0  [{'id': 16, 'name': 'Animation'}, {'id': 35, '...    862   \n1  [{'id': 12, 'name': 'Adventure'}, {'id': 14, '...   8844   \n2  [{'id': 10749, 'name': 'Romance'}, {'id': 35, ...  15602   \n3  [{'id': 35, 'name': 'Comedy'}, {'id': 18, 'nam...  31357   \n4                     [{'id': 35, 'name': 'Comedy'}]  11862   \n\n                original_title  \\\n0                    Toy Story   \n1                      Jumanji   \n2             Grumpier Old Men   \n3            Waiting to Exhale   \n4  Father of the Bride Part II   \n\n                                            overview release_date  \n0  Led by Woody, Andy's toys live happily in his ...   1995-10-30  \n1  When siblings Judy and Peter discover an encha...   1995-12-15  \n2  A family wedding reignites the ancient feud be...   1995-12-22  \n3  Cheated on, mistreated and stepped on, the wom...   1995-12-22  \n4  Just when George Banks has recovered from his ...   1995-02-10  ",
      "text/html": "<div>\n<style scoped>\n    .dataframe tbody tr th:only-of-type {\n        vertical-align: middle;\n    }\n\n    .dataframe tbody tr th {\n        vertical-align: top;\n    }\n\n    .dataframe thead th {\n        text-align: right;\n    }\n</style>\n<table border=\"1\" class=\"dataframe\">\n  <thead>\n    <tr style=\"text-align: right;\">\n      <th></th>\n      <th>genres</th>\n      <th>id</th>\n      <th>original_title</th>\n      <th>overview</th>\n      <th>release_date</th>\n    </tr>\n  </thead>\n  <tbody>\n    <tr>\n      <th>0</th>\n      <td>[{'id': 16, 'name': 'Animation'}, {'id': 35, '...</td>\n      <td>862</td>\n      <td>Toy Story</td>\n      <td>Led by Woody, Andy's toys live happily in his ...</td>\n      <td>1995-10-30</td>\n    </tr>\n    <tr>\n      <th>1</th>\n      <td>[{'id': 12, 'name': 'Adventure'}, {'id': 14, '...</td>\n      <td>8844</td>\n      <td>Jumanji</td>\n      <td>When siblings Judy and Peter discover an encha...</td>\n      <td>1995-12-15</td>\n    </tr>\n    <tr>\n      <th>2</th>\n      <td>[{'id': 10749, 'name': 'Romance'}, {'id': 35, ...</td>\n      <td>15602</td>\n      <td>Grumpier Old Men</td>\n      <td>A family wedding reignites the ancient feud be...</td>\n      <td>1995-12-22</td>\n    </tr>\n    <tr>\n      <th>3</th>\n      <td>[{'id': 35, 'name': 'Comedy'}, {'id': 18, 'nam...</td>\n      <td>31357</td>\n      <td>Waiting to Exhale</td>\n      <td>Cheated on, mistreated and stepped on, the wom...</td>\n      <td>1995-12-22</td>\n    </tr>\n    <tr>\n      <th>4</th>\n      <td>[{'id': 35, 'name': 'Comedy'}]</td>\n      <td>11862</td>\n      <td>Father of the Bride Part II</td>\n      <td>Just when George Banks has recovered from his ...</td>\n      <td>1995-02-10</td>\n    </tr>\n  </tbody>\n</table>\n</div>"
     },
     "execution_count": 4,
     "metadata": {},
     "output_type": "execute_result"
    }
   ],
   "source": [
    "num_rows,num_columns = df.shape   #Using the shape attribute to figure out how many rows and columns my DataFrame has. The first element shows the number of rows and the second shows the number of columns.\n",
    "print(num_rows,num_columns)\n",
    "\n",
    "df.head()    #Looking at the first five rows of the 'df' DataFrame.  \n"
   ],
   "metadata": {
    "collapsed": false,
    "ExecuteTime": {
     "end_time": "2024-02-07T11:49:24.954776100Z",
     "start_time": "2024-02-07T11:49:24.897942700Z"
    }
   },
   "id": "af5813859059e4d5",
   "execution_count": 4
  },
  {
   "cell_type": "code",
   "outputs": [],
   "source": [
    "#Now I can see that my 'df' DataFrame has 5 columns. The amount of rows stays the same as in the original DataFrame (998)."
   ],
   "metadata": {
    "collapsed": false
   },
   "id": "8b30ac59120d9faa"
  },
  {
   "cell_type": "code",
   "outputs": [],
   "source": [
    "#In this step I want to limit my 'df' DataFrame to only the first 100 rows.\n",
    "\n",
    "df = df.iloc[:100]   \n",
    "#The df.iloc[:] accesses the rows in the 'df' DataFrame.\n",
    "#iloc is used to select data by row or column number. \n",
    "# :100 this part selects the first 100 rows (does not include the 100th row)."
   ],
   "metadata": {
    "collapsed": false,
    "ExecuteTime": {
     "end_time": "2024-02-07T11:50:19.719331200Z",
     "start_time": "2024-02-07T11:50:19.688812Z"
    }
   },
   "id": "3bc22feee4cb3290",
   "execution_count": 5
  },
  {
   "cell_type": "code",
   "outputs": [
    {
     "name": "stdout",
     "output_type": "stream",
     "text": [
      "100 5\n"
     ]
    }
   ],
   "source": [
    "num_rows,num_columns = df.shape\n",
    "print(num_rows,num_columns)"
   ],
   "metadata": {
    "collapsed": false,
    "ExecuteTime": {
     "end_time": "2024-02-07T11:50:28.342914700Z",
     "start_time": "2024-02-07T11:50:28.323480600Z"
    }
   },
   "id": "2a6c049fe060667b",
   "execution_count": 6
  },
  {
   "cell_type": "code",
   "outputs": [],
   "source": [
    "#So here we see that we have only 100 rows left. I chose to do that just so things will be easier to overview."
   ],
   "metadata": {
    "collapsed": false
   },
   "id": "2d0697d5ebcccf82"
  },
  {
   "cell_type": "code",
   "outputs": [
    {
     "name": "stdout",
     "output_type": "stream",
     "text": [
      "[{'id': 16, 'name': 'Animation'}, {'id': 35, 'name': 'Comedy'}, {'id': 10751, 'name': 'Family'}]\n"
     ]
    }
   ],
   "source": [
    "#Now I want to modify the genre column so that it only contains the name of the first genre. \n",
    "\n",
    "#I select the genre column and the first row just to see its content. \n",
    "first_genre = df['genres'].iloc[0]\n",
    "print(first_genre)"
   ],
   "metadata": {
    "collapsed": false,
    "ExecuteTime": {
     "end_time": "2024-02-07T11:51:04.421792400Z",
     "start_time": "2024-02-07T11:51:04.407185700Z"
    }
   },
   "id": "f1212129c4f1b4c7",
   "execution_count": 7
  },
  {
   "cell_type": "code",
   "outputs": [],
   "source": [
    "#Here I see that the content of the genres column is in a string format which looks like Python dictionaries (but they are not 'real' dictionaries). So the first thing I need to do in order to be able to extract the first genre name, is to convert the strings into a Python list of dictionaries. \n",
    "\n",
    "import json   \n",
    "#I import the json library since this can convert the strings into Python objects (list of dictionaries).\n",
    "\n",
    "def get_first_genre_name(genre_string):    #This function takes one parameter 'genre_string', which is like a placeholder for my actual data that will be used when I call the function. So each genre string from each row will be passed into my 'get_first_genre_name' function.\n",
    "    try: #I chose to have error handling in this function because I have alot of data and something could go wrong, so I want to be sure to handle it.   \n",
    "        genre_list = json.loads(genre_string.replace(\"'\", \"\\\"\"))   #The genre_list is a string(text) from my 'df' DataFrame's genres column. What I am doing in this part of the code is to change the single ' to double \" quotes because the json format needs to have double quotes to be able to convert the text to Python dictionaries.\n",
    "        return genre_list[0]['name'] if genre_list else None  #Here I choose the first item (dictionary) from the 'genre_list' (that is why the [0]). Then I take the value of the key 'name' in that first dictionary. The last part 'if genre_list else None' will return 'None' if genre_list is empty.\n",
    "    except: #This code will only be executed should there be a 'problem' like for example that there is an error in the processing of a genre string. So should that happen, the function will return 'None' for that particular row.\n",
    "        return None\n",
    "    \n",
    "df['genres'] = df['genres'].apply(get_first_genre_name)  #This line applies my function 'get_first_genre_name' to every row in the 'genres' column. "
   ],
   "metadata": {
    "collapsed": false,
    "ExecuteTime": {
     "end_time": "2024-02-07T11:51:37.837839700Z",
     "start_time": "2024-02-07T11:51:37.811494900Z"
    }
   },
   "id": "653ef0d6e6a3af3e",
   "execution_count": 8
  },
  {
   "cell_type": "code",
   "outputs": [
    {
     "data": {
      "text/plain": "      genres     id               original_title  \\\n0  Animation    862                    Toy Story   \n1  Adventure   8844                      Jumanji   \n2    Romance  15602             Grumpier Old Men   \n3     Comedy  31357            Waiting to Exhale   \n4     Comedy  11862  Father of the Bride Part II   \n\n                                            overview release_date  \n0  Led by Woody, Andy's toys live happily in his ...   1995-10-30  \n1  When siblings Judy and Peter discover an encha...   1995-12-15  \n2  A family wedding reignites the ancient feud be...   1995-12-22  \n3  Cheated on, mistreated and stepped on, the wom...   1995-12-22  \n4  Just when George Banks has recovered from his ...   1995-02-10  ",
      "text/html": "<div>\n<style scoped>\n    .dataframe tbody tr th:only-of-type {\n        vertical-align: middle;\n    }\n\n    .dataframe tbody tr th {\n        vertical-align: top;\n    }\n\n    .dataframe thead th {\n        text-align: right;\n    }\n</style>\n<table border=\"1\" class=\"dataframe\">\n  <thead>\n    <tr style=\"text-align: right;\">\n      <th></th>\n      <th>genres</th>\n      <th>id</th>\n      <th>original_title</th>\n      <th>overview</th>\n      <th>release_date</th>\n    </tr>\n  </thead>\n  <tbody>\n    <tr>\n      <th>0</th>\n      <td>Animation</td>\n      <td>862</td>\n      <td>Toy Story</td>\n      <td>Led by Woody, Andy's toys live happily in his ...</td>\n      <td>1995-10-30</td>\n    </tr>\n    <tr>\n      <th>1</th>\n      <td>Adventure</td>\n      <td>8844</td>\n      <td>Jumanji</td>\n      <td>When siblings Judy and Peter discover an encha...</td>\n      <td>1995-12-15</td>\n    </tr>\n    <tr>\n      <th>2</th>\n      <td>Romance</td>\n      <td>15602</td>\n      <td>Grumpier Old Men</td>\n      <td>A family wedding reignites the ancient feud be...</td>\n      <td>1995-12-22</td>\n    </tr>\n    <tr>\n      <th>3</th>\n      <td>Comedy</td>\n      <td>31357</td>\n      <td>Waiting to Exhale</td>\n      <td>Cheated on, mistreated and stepped on, the wom...</td>\n      <td>1995-12-22</td>\n    </tr>\n    <tr>\n      <th>4</th>\n      <td>Comedy</td>\n      <td>11862</td>\n      <td>Father of the Bride Part II</td>\n      <td>Just when George Banks has recovered from his ...</td>\n      <td>1995-02-10</td>\n    </tr>\n  </tbody>\n</table>\n</div>"
     },
     "execution_count": 9,
     "metadata": {},
     "output_type": "execute_result"
    }
   ],
   "source": [
    "df.head()  #I wanted to see if it worked. And yes it did :)."
   ],
   "metadata": {
    "collapsed": false,
    "ExecuteTime": {
     "end_time": "2024-02-07T11:51:45.855089200Z",
     "start_time": "2024-02-07T11:51:45.822318800Z"
    }
   },
   "id": "9843a1ef27e0e8f7",
   "execution_count": 9
  },
  {
   "cell_type": "code",
   "outputs": [],
   "source": [
    "#Now I want to change the column name 'original_title' to just 'title'.\n",
    "\n",
    "df = df.rename(columns={'original_title': 'title'})"
   ],
   "metadata": {
    "collapsed": false,
    "ExecuteTime": {
     "end_time": "2024-02-07T11:52:48.421176Z",
     "start_time": "2024-02-07T11:52:48.399600Z"
    }
   },
   "id": "dd9672a122dfbfeb",
   "execution_count": 10
  },
  {
   "cell_type": "code",
   "outputs": [
    {
     "data": {
      "text/plain": "      genres     id                        title  \\\n0  Animation    862                    Toy Story   \n1  Adventure   8844                      Jumanji   \n2    Romance  15602             Grumpier Old Men   \n3     Comedy  31357            Waiting to Exhale   \n4     Comedy  11862  Father of the Bride Part II   \n\n                                            overview release_date  \n0  Led by Woody, Andy's toys live happily in his ...   1995-10-30  \n1  When siblings Judy and Peter discover an encha...   1995-12-15  \n2  A family wedding reignites the ancient feud be...   1995-12-22  \n3  Cheated on, mistreated and stepped on, the wom...   1995-12-22  \n4  Just when George Banks has recovered from his ...   1995-02-10  ",
      "text/html": "<div>\n<style scoped>\n    .dataframe tbody tr th:only-of-type {\n        vertical-align: middle;\n    }\n\n    .dataframe tbody tr th {\n        vertical-align: top;\n    }\n\n    .dataframe thead th {\n        text-align: right;\n    }\n</style>\n<table border=\"1\" class=\"dataframe\">\n  <thead>\n    <tr style=\"text-align: right;\">\n      <th></th>\n      <th>genres</th>\n      <th>id</th>\n      <th>title</th>\n      <th>overview</th>\n      <th>release_date</th>\n    </tr>\n  </thead>\n  <tbody>\n    <tr>\n      <th>0</th>\n      <td>Animation</td>\n      <td>862</td>\n      <td>Toy Story</td>\n      <td>Led by Woody, Andy's toys live happily in his ...</td>\n      <td>1995-10-30</td>\n    </tr>\n    <tr>\n      <th>1</th>\n      <td>Adventure</td>\n      <td>8844</td>\n      <td>Jumanji</td>\n      <td>When siblings Judy and Peter discover an encha...</td>\n      <td>1995-12-15</td>\n    </tr>\n    <tr>\n      <th>2</th>\n      <td>Romance</td>\n      <td>15602</td>\n      <td>Grumpier Old Men</td>\n      <td>A family wedding reignites the ancient feud be...</td>\n      <td>1995-12-22</td>\n    </tr>\n    <tr>\n      <th>3</th>\n      <td>Comedy</td>\n      <td>31357</td>\n      <td>Waiting to Exhale</td>\n      <td>Cheated on, mistreated and stepped on, the wom...</td>\n      <td>1995-12-22</td>\n    </tr>\n    <tr>\n      <th>4</th>\n      <td>Comedy</td>\n      <td>11862</td>\n      <td>Father of the Bride Part II</td>\n      <td>Just when George Banks has recovered from his ...</td>\n      <td>1995-02-10</td>\n    </tr>\n  </tbody>\n</table>\n</div>"
     },
     "execution_count": 11,
     "metadata": {},
     "output_type": "execute_result"
    }
   ],
   "source": [
    "df.head()  #Just checking."
   ],
   "metadata": {
    "collapsed": false,
    "ExecuteTime": {
     "end_time": "2024-02-07T11:52:55.976774100Z",
     "start_time": "2024-02-07T11:52:55.952537900Z"
    }
   },
   "id": "9d183b8e41888535",
   "execution_count": 11
  },
  {
   "cell_type": "code",
   "outputs": [],
   "source": [
    "#Now I want to merge the 'df' DataFrame with the data from my ratings.csv file so that I get one new DataFrame with which I can work to create my recommendation application. \n",
    "\n",
    "ratings_df = pd.read_csv('ratings.csv')   #This line reads the ratings.csv file and creates a DataFrame called ratings_df.\n",
    "\n",
    "merged_df = df.merge(ratings_df, left_on='id', right_on='movieId', how='inner')  #In this line I assign the result of the merging operation to a new DataFrame which I name 'merged_df'. So what happens is that the two DataFrames 'df' and 'ratings_df' get merged and a new DataFrame will be created. The parameters left_on='id' and right_on='movieId' specify that the id column from the df DataFrame should be matched with the movieId column from the ratings_df DataFrame. The how parameter means that I will merge those two DataFrames with an inner join. If there are any rows without a match, they will be excluded from the result.\n",
    "\n",
    "merged_df.drop('movieId', axis=1, inplace=True)  #Here I am dropping the movieId column after merging the two DataFrames since the two columns contain the same data information. The axis=1 parameter specifies that I want to drop a column not a row and the inplace=True parameter makes changes directly to the merged_df DataFrame without creating a new copy (it makes changes to itself)."
   ],
   "metadata": {
    "collapsed": false,
    "ExecuteTime": {
     "end_time": "2024-02-07T11:53:32.665552Z",
     "start_time": "2024-02-07T11:53:32.579846900Z"
    }
   },
   "id": "578548c3b504c634",
   "execution_count": 12
  },
  {
   "cell_type": "code",
   "outputs": [
    {
     "data": {
      "text/plain": "     genres    id               title  \\\n0    Action   949                Heat   \n1    Action   949                Heat   \n2    Action   949                Heat   \n3    Action   949                Heat   \n4    Action   949                Heat   \n..      ...   ...                 ...   \n322   Drama   880             Antonia   \n323   Drama   880             Antonia   \n324   Drama   880             Antonia   \n325   Drama  8447  Angels and Insects   \n326   Crime  2086        Nick of Time   \n\n                                              overview release_date  userId  \\\n0    Obsessive master thief, Neil McCauley leads a ...   1995-12-15      23   \n1    Obsessive master thief, Neil McCauley leads a ...   1995-12-15     102   \n2    Obsessive master thief, Neil McCauley leads a ...   1995-12-15     232   \n3    Obsessive master thief, Neil McCauley leads a ...   1995-12-15     242   \n4    Obsessive master thief, Neil McCauley leads a ...   1995-12-15     263   \n..                                                 ...          ...     ...   \n322  After World War II, Antonia and her daughter, ...   1995-09-12     624   \n323  After World War II, Antonia and her daughter, ...   1995-09-12     646   \n324  After World War II, Antonia and her daughter, ...   1995-09-12     659   \n325  In Victorian England, wealthy patriarch Sir Ha...   1995-09-10     624   \n326  Gene Watson is a public accountant who arrives...   1995-11-22       4   \n\n     rating   timestamp  \n0       3.5  1148721092  \n1       4.0   956598942  \n2       2.0   955092697  \n3       5.0   956688825  \n4       3.0  1117846575  \n..      ...         ...  \n322     1.5  1170357662  \n323     2.0   953448670  \n324     2.0   854359234  \n325     1.0  1087150729  \n326     5.0   949896114  \n\n[327 rows x 8 columns]",
      "text/html": "<div>\n<style scoped>\n    .dataframe tbody tr th:only-of-type {\n        vertical-align: middle;\n    }\n\n    .dataframe tbody tr th {\n        vertical-align: top;\n    }\n\n    .dataframe thead th {\n        text-align: right;\n    }\n</style>\n<table border=\"1\" class=\"dataframe\">\n  <thead>\n    <tr style=\"text-align: right;\">\n      <th></th>\n      <th>genres</th>\n      <th>id</th>\n      <th>title</th>\n      <th>overview</th>\n      <th>release_date</th>\n      <th>userId</th>\n      <th>rating</th>\n      <th>timestamp</th>\n    </tr>\n  </thead>\n  <tbody>\n    <tr>\n      <th>0</th>\n      <td>Action</td>\n      <td>949</td>\n      <td>Heat</td>\n      <td>Obsessive master thief, Neil McCauley leads a ...</td>\n      <td>1995-12-15</td>\n      <td>23</td>\n      <td>3.5</td>\n      <td>1148721092</td>\n    </tr>\n    <tr>\n      <th>1</th>\n      <td>Action</td>\n      <td>949</td>\n      <td>Heat</td>\n      <td>Obsessive master thief, Neil McCauley leads a ...</td>\n      <td>1995-12-15</td>\n      <td>102</td>\n      <td>4.0</td>\n      <td>956598942</td>\n    </tr>\n    <tr>\n      <th>2</th>\n      <td>Action</td>\n      <td>949</td>\n      <td>Heat</td>\n      <td>Obsessive master thief, Neil McCauley leads a ...</td>\n      <td>1995-12-15</td>\n      <td>232</td>\n      <td>2.0</td>\n      <td>955092697</td>\n    </tr>\n    <tr>\n      <th>3</th>\n      <td>Action</td>\n      <td>949</td>\n      <td>Heat</td>\n      <td>Obsessive master thief, Neil McCauley leads a ...</td>\n      <td>1995-12-15</td>\n      <td>242</td>\n      <td>5.0</td>\n      <td>956688825</td>\n    </tr>\n    <tr>\n      <th>4</th>\n      <td>Action</td>\n      <td>949</td>\n      <td>Heat</td>\n      <td>Obsessive master thief, Neil McCauley leads a ...</td>\n      <td>1995-12-15</td>\n      <td>263</td>\n      <td>3.0</td>\n      <td>1117846575</td>\n    </tr>\n    <tr>\n      <th>...</th>\n      <td>...</td>\n      <td>...</td>\n      <td>...</td>\n      <td>...</td>\n      <td>...</td>\n      <td>...</td>\n      <td>...</td>\n      <td>...</td>\n    </tr>\n    <tr>\n      <th>322</th>\n      <td>Drama</td>\n      <td>880</td>\n      <td>Antonia</td>\n      <td>After World War II, Antonia and her daughter, ...</td>\n      <td>1995-09-12</td>\n      <td>624</td>\n      <td>1.5</td>\n      <td>1170357662</td>\n    </tr>\n    <tr>\n      <th>323</th>\n      <td>Drama</td>\n      <td>880</td>\n      <td>Antonia</td>\n      <td>After World War II, Antonia and her daughter, ...</td>\n      <td>1995-09-12</td>\n      <td>646</td>\n      <td>2.0</td>\n      <td>953448670</td>\n    </tr>\n    <tr>\n      <th>324</th>\n      <td>Drama</td>\n      <td>880</td>\n      <td>Antonia</td>\n      <td>After World War II, Antonia and her daughter, ...</td>\n      <td>1995-09-12</td>\n      <td>659</td>\n      <td>2.0</td>\n      <td>854359234</td>\n    </tr>\n    <tr>\n      <th>325</th>\n      <td>Drama</td>\n      <td>8447</td>\n      <td>Angels and Insects</td>\n      <td>In Victorian England, wealthy patriarch Sir Ha...</td>\n      <td>1995-09-10</td>\n      <td>624</td>\n      <td>1.0</td>\n      <td>1087150729</td>\n    </tr>\n    <tr>\n      <th>326</th>\n      <td>Crime</td>\n      <td>2086</td>\n      <td>Nick of Time</td>\n      <td>Gene Watson is a public accountant who arrives...</td>\n      <td>1995-11-22</td>\n      <td>4</td>\n      <td>5.0</td>\n      <td>949896114</td>\n    </tr>\n  </tbody>\n</table>\n<p>327 rows × 8 columns</p>\n</div>"
     },
     "execution_count": 13,
     "metadata": {},
     "output_type": "execute_result"
    }
   ],
   "source": [
    "merged_df"
   ],
   "metadata": {
    "collapsed": false,
    "ExecuteTime": {
     "end_time": "2024-02-07T11:53:42.864963900Z",
     "start_time": "2024-02-07T11:53:42.826045700Z"
    }
   },
   "id": "81897f46ff3a4e81",
   "execution_count": 13
  },
  {
   "cell_type": "code",
   "outputs": [
    {
     "name": "stdout",
     "output_type": "stream",
     "text": [
      "327 8\n"
     ]
    }
   ],
   "source": [
    "num_rows,num_columns = merged_df.shape\n",
    "print(num_rows, num_columns)  "
   ],
   "metadata": {
    "collapsed": false,
    "ExecuteTime": {
     "end_time": "2024-02-07T11:54:00.427956400Z",
     "start_time": "2024-02-07T11:54:00.405905900Z"
    }
   },
   "id": "644f930f710a889b",
   "execution_count": 14
  },
  {
   "cell_type": "code",
   "outputs": [],
   "source": [
    "#Now I want to save my current merged_df DataFrame so that I can access it even after making changes or mistakes.\n",
    "\n",
    "#Here I save the DataFrame to a csv file.\n",
    "\n",
    "merged_df.to_csv('merged_data.csv', index = False) #With the index=False parameter I want to remove the index column to have a neater and simpler dataset without extra numbering. "
   ],
   "metadata": {
    "collapsed": false,
    "ExecuteTime": {
     "end_time": "2024-02-07T11:54:13.222226900Z",
     "start_time": "2024-02-07T11:54:13.196612600Z"
    }
   },
   "id": "2eccdb2c6b0307c9",
   "execution_count": 15
  },
  {
   "cell_type": "code",
   "outputs": [],
   "source": [
    "#Now I want to delete the timestamp column in the merged_df DataFrame and also delete the timestamp column in the merged_data.csv file.\n",
    "\n",
    "merged_df.drop('timestamp', axis = 1, inplace = True) #I use the drop method to remove the timestamp column. The parameter axis = 1 indicates that I want to drop a column, not a row. I use the inplace=True parameter so that the merged_df DataFrame gets modified directly without having to create a new DataFrame to store the result. \n",
    "merged_df.to_csv('merged_data.csv', index = False) #Here I use the to_csv method to save the DataFrame merged_df as a csv file which I named merged_data.csv. The part with index=False means that it will not include the index column when saving to the csv file. "
   ],
   "metadata": {
    "collapsed": false,
    "ExecuteTime": {
     "end_time": "2024-02-07T11:54:42.241348100Z",
     "start_time": "2024-02-07T11:54:42.217056600Z"
    }
   },
   "id": "3cbdc78256eca1df",
   "execution_count": 16
  },
  {
   "cell_type": "code",
   "outputs": [
    {
     "data": {
      "text/plain": "   genres   id title                                           overview  \\\n0  Action  949  Heat  Obsessive master thief, Neil McCauley leads a ...   \n1  Action  949  Heat  Obsessive master thief, Neil McCauley leads a ...   \n2  Action  949  Heat  Obsessive master thief, Neil McCauley leads a ...   \n3  Action  949  Heat  Obsessive master thief, Neil McCauley leads a ...   \n4  Action  949  Heat  Obsessive master thief, Neil McCauley leads a ...   \n\n  release_date  userId  rating  \n0   1995-12-15      23     3.5  \n1   1995-12-15     102     4.0  \n2   1995-12-15     232     2.0  \n3   1995-12-15     242     5.0  \n4   1995-12-15     263     3.0  ",
      "text/html": "<div>\n<style scoped>\n    .dataframe tbody tr th:only-of-type {\n        vertical-align: middle;\n    }\n\n    .dataframe tbody tr th {\n        vertical-align: top;\n    }\n\n    .dataframe thead th {\n        text-align: right;\n    }\n</style>\n<table border=\"1\" class=\"dataframe\">\n  <thead>\n    <tr style=\"text-align: right;\">\n      <th></th>\n      <th>genres</th>\n      <th>id</th>\n      <th>title</th>\n      <th>overview</th>\n      <th>release_date</th>\n      <th>userId</th>\n      <th>rating</th>\n    </tr>\n  </thead>\n  <tbody>\n    <tr>\n      <th>0</th>\n      <td>Action</td>\n      <td>949</td>\n      <td>Heat</td>\n      <td>Obsessive master thief, Neil McCauley leads a ...</td>\n      <td>1995-12-15</td>\n      <td>23</td>\n      <td>3.5</td>\n    </tr>\n    <tr>\n      <th>1</th>\n      <td>Action</td>\n      <td>949</td>\n      <td>Heat</td>\n      <td>Obsessive master thief, Neil McCauley leads a ...</td>\n      <td>1995-12-15</td>\n      <td>102</td>\n      <td>4.0</td>\n    </tr>\n    <tr>\n      <th>2</th>\n      <td>Action</td>\n      <td>949</td>\n      <td>Heat</td>\n      <td>Obsessive master thief, Neil McCauley leads a ...</td>\n      <td>1995-12-15</td>\n      <td>232</td>\n      <td>2.0</td>\n    </tr>\n    <tr>\n      <th>3</th>\n      <td>Action</td>\n      <td>949</td>\n      <td>Heat</td>\n      <td>Obsessive master thief, Neil McCauley leads a ...</td>\n      <td>1995-12-15</td>\n      <td>242</td>\n      <td>5.0</td>\n    </tr>\n    <tr>\n      <th>4</th>\n      <td>Action</td>\n      <td>949</td>\n      <td>Heat</td>\n      <td>Obsessive master thief, Neil McCauley leads a ...</td>\n      <td>1995-12-15</td>\n      <td>263</td>\n      <td>3.0</td>\n    </tr>\n  </tbody>\n</table>\n</div>"
     },
     "execution_count": 17,
     "metadata": {},
     "output_type": "execute_result"
    }
   ],
   "source": [
    "merged_df.head() #Just checking on my DataFrame (first five rows)."
   ],
   "metadata": {
    "collapsed": false,
    "ExecuteTime": {
     "end_time": "2024-02-07T11:54:53.454888100Z",
     "start_time": "2024-02-07T11:54:53.427907200Z"
    }
   },
   "id": "1ce2d6c397a669e6",
   "execution_count": 17
  },
  {
   "cell_type": "code",
   "outputs": [
    {
     "data": {
      "text/plain": "    genres    id               title  \\\n322  Drama   880             Antonia   \n323  Drama   880             Antonia   \n324  Drama   880             Antonia   \n325  Drama  8447  Angels and Insects   \n326  Crime  2086        Nick of Time   \n\n                                              overview release_date  userId  \\\n322  After World War II, Antonia and her daughter, ...   1995-09-12     624   \n323  After World War II, Antonia and her daughter, ...   1995-09-12     646   \n324  After World War II, Antonia and her daughter, ...   1995-09-12     659   \n325  In Victorian England, wealthy patriarch Sir Ha...   1995-09-10     624   \n326  Gene Watson is a public accountant who arrives...   1995-11-22       4   \n\n     rating  \n322     1.5  \n323     2.0  \n324     2.0  \n325     1.0  \n326     5.0  ",
      "text/html": "<div>\n<style scoped>\n    .dataframe tbody tr th:only-of-type {\n        vertical-align: middle;\n    }\n\n    .dataframe tbody tr th {\n        vertical-align: top;\n    }\n\n    .dataframe thead th {\n        text-align: right;\n    }\n</style>\n<table border=\"1\" class=\"dataframe\">\n  <thead>\n    <tr style=\"text-align: right;\">\n      <th></th>\n      <th>genres</th>\n      <th>id</th>\n      <th>title</th>\n      <th>overview</th>\n      <th>release_date</th>\n      <th>userId</th>\n      <th>rating</th>\n    </tr>\n  </thead>\n  <tbody>\n    <tr>\n      <th>322</th>\n      <td>Drama</td>\n      <td>880</td>\n      <td>Antonia</td>\n      <td>After World War II, Antonia and her daughter, ...</td>\n      <td>1995-09-12</td>\n      <td>624</td>\n      <td>1.5</td>\n    </tr>\n    <tr>\n      <th>323</th>\n      <td>Drama</td>\n      <td>880</td>\n      <td>Antonia</td>\n      <td>After World War II, Antonia and her daughter, ...</td>\n      <td>1995-09-12</td>\n      <td>646</td>\n      <td>2.0</td>\n    </tr>\n    <tr>\n      <th>324</th>\n      <td>Drama</td>\n      <td>880</td>\n      <td>Antonia</td>\n      <td>After World War II, Antonia and her daughter, ...</td>\n      <td>1995-09-12</td>\n      <td>659</td>\n      <td>2.0</td>\n    </tr>\n    <tr>\n      <th>325</th>\n      <td>Drama</td>\n      <td>8447</td>\n      <td>Angels and Insects</td>\n      <td>In Victorian England, wealthy patriarch Sir Ha...</td>\n      <td>1995-09-10</td>\n      <td>624</td>\n      <td>1.0</td>\n    </tr>\n    <tr>\n      <th>326</th>\n      <td>Crime</td>\n      <td>2086</td>\n      <td>Nick of Time</td>\n      <td>Gene Watson is a public accountant who arrives...</td>\n      <td>1995-11-22</td>\n      <td>4</td>\n      <td>5.0</td>\n    </tr>\n  </tbody>\n</table>\n</div>"
     },
     "execution_count": 18,
     "metadata": {},
     "output_type": "execute_result"
    }
   ],
   "source": [
    "merged_df.tail() #Just checking on my DataFrame (last five rows)"
   ],
   "metadata": {
    "collapsed": false,
    "ExecuteTime": {
     "end_time": "2024-02-07T11:55:06.237868600Z",
     "start_time": "2024-02-07T11:55:06.198880500Z"
    }
   },
   "id": "7043201ab7bae150",
   "execution_count": 18
  },
  {
   "cell_type": "code",
   "outputs": [],
   "source": [
    "#I want to remove any rows where there is at least one  missing.\n",
    "\n",
    "merged_df.dropna(inplace = True) #With this code I am removing any rows with missing data directly in my merged_df DataFrame without creating a new DataFrame. So the changes are not made in a copy of my merged_df DataFrame.  \n"
   ],
   "metadata": {
    "collapsed": false,
    "ExecuteTime": {
     "end_time": "2024-02-07T11:55:20.226155800Z",
     "start_time": "2024-02-07T11:55:20.202612200Z"
    }
   },
   "id": "2f9b35bf30f609b4",
   "execution_count": 19
  },
  {
   "cell_type": "code",
   "outputs": [
    {
     "name": "stdout",
     "output_type": "stream",
     "text": [
      "327 7\n"
     ]
    }
   ],
   "source": [
    "#Now I want to see how many rows are left.\n",
    "\n",
    "rows, columns = merged_df.shape\n",
    "print(rows, columns)"
   ],
   "metadata": {
    "collapsed": false,
    "ExecuteTime": {
     "end_time": "2024-02-07T11:55:28.803492400Z",
     "start_time": "2024-02-07T11:55:28.787297400Z"
    }
   },
   "id": "85aa981bbaf2f23d",
   "execution_count": 20
  },
  {
   "cell_type": "code",
   "outputs": [
    {
     "name": "stdout",
     "output_type": "stream",
     "text": [
      "327 7\n"
     ]
    }
   ],
   "source": [
    "#So here I see that there were no rows with missing data, since there are still 327 rows left, just like before. \n",
    "\n",
    "#Now I want to remove duplicates.\n",
    "\n",
    "merged_df = merged_df.drop_duplicates() #With the drop_duplicates method I check the DataFrame for any rows that are same. If any duplicates are found, only the first occurrence of the duplicate row will be kept and the others will be removed. because of this I will only have unique rows in my DataFrame.\n",
    "\n",
    "rows, columns = merged_df.shape\n",
    "print(rows, columns)"
   ],
   "metadata": {
    "collapsed": false,
    "ExecuteTime": {
     "end_time": "2024-02-07T11:55:44.950446400Z",
     "start_time": "2024-02-07T11:55:44.916273700Z"
    }
   },
   "id": "9a30eef7e293636f",
   "execution_count": 21
  },
  {
   "cell_type": "code",
   "outputs": [],
   "source": [
    "#And again, I see that there were no duplicates in the DataFrame because I still have 327 rows, so nothing has changed. \n",
    " "
   ],
   "metadata": {
    "collapsed": false
   },
   "id": "e838a416c2dbc306"
  },
  {
   "cell_type": "code",
   "outputs": [
    {
     "data": {
      "text/plain": "genres           object\nid                int64\ntitle            object\noverview         object\nrelease_date     object\nuserId            int64\nrating          float64\ndtype: object"
     },
     "execution_count": 22,
     "metadata": {},
     "output_type": "execute_result"
    }
   ],
   "source": [
    "merged_df.dtypes   #Checking the data types of all columns."
   ],
   "metadata": {
    "collapsed": false,
    "ExecuteTime": {
     "end_time": "2024-02-07T11:56:14.240759500Z",
     "start_time": "2024-02-07T11:56:14.218301800Z"
    }
   },
   "id": "ff1ff5f03ac4acb1",
   "execution_count": 22
  },
  {
   "cell_type": "code",
   "outputs": [],
   "source": [
    "#I want to change the data type of the column release_date, which is currently an object (in pandas it means it is a string), to datetime format. The other columns I will leave like this because their data types are good for what I need in my later use. \n",
    "\n",
    "\n",
    "merged_df ['release-date'] = pd.to_datetime(merged_df['release_date'])"
   ],
   "metadata": {
    "collapsed": false,
    "ExecuteTime": {
     "end_time": "2024-02-07T11:56:25.851603400Z",
     "start_time": "2024-02-07T11:56:25.824104400Z"
    }
   },
   "id": "19517e143ba635f",
   "execution_count": 23
  },
  {
   "cell_type": "code",
   "outputs": [
    {
     "name": "stdout",
     "output_type": "stream",
     "text": [
      "genres                  object\n",
      "id                       int64\n",
      "title                   object\n",
      "overview                object\n",
      "release_date            object\n",
      "userId                   int64\n",
      "rating                 float64\n",
      "release-date    datetime64[ns]\n",
      "dtype: object\n"
     ]
    }
   ],
   "source": [
    "print(merged_df.dtypes) #Checking if it worked. I see that I accidentally created a new release_date column. So now I have to drop that newly created column from my DataFrame."
   ],
   "metadata": {
    "collapsed": false,
    "ExecuteTime": {
     "end_time": "2024-02-07T11:56:34.792399100Z",
     "start_time": "2024-02-07T11:56:34.773483100Z"
    }
   },
   "id": "a50dcc3373ba59dd",
   "execution_count": 24
  },
  {
   "cell_type": "code",
   "outputs": [],
   "source": [
    "#Now I will remove the accidentally created column.\n",
    "merged_df.drop(columns = ['release-date'], inplace = True)"
   ],
   "metadata": {
    "collapsed": false,
    "ExecuteTime": {
     "end_time": "2024-02-07T11:56:45.848930700Z",
     "start_time": "2024-02-07T11:56:45.822228800Z"
    }
   },
   "id": "febbac6faace6723",
   "execution_count": 25
  },
  {
   "cell_type": "code",
   "outputs": [
    {
     "name": "stdout",
     "output_type": "stream",
     "text": [
      "genres           object\n",
      "id                int64\n",
      "title            object\n",
      "overview         object\n",
      "release_date     object\n",
      "userId            int64\n",
      "rating          float64\n",
      "dtype: object\n"
     ]
    }
   ],
   "source": [
    "print(merged_df.dtypes) #Checking if the column has been deleted and if the original release_date column's data type is still the same as before (string). "
   ],
   "metadata": {
    "collapsed": false,
    "ExecuteTime": {
     "end_time": "2024-02-07T11:56:53.784510600Z",
     "start_time": "2024-02-07T11:56:53.751742800Z"
    }
   },
   "id": "41380633fe93723f",
   "execution_count": 26
  },
  {
   "cell_type": "code",
   "outputs": [],
   "source": [
    "#Now I will try to change the data type of release_date column again, using another approach. \n",
    "\n",
    "\n",
    "merged_df['release_date'] = merged_df['release_date'].apply(lambda x: pd.to_datetime(x))  #In this code I am first referring to the column release_date in my merged_df DataFrame, because that is where I want to make changes. The apply() is used to apply another function, in this case the lambda function. The lambda function is a small unnamed function and x represents each individual element in the release_date column. The next part which is pd.to.datetime(x) converts x (each date in the release_date column) from string to datetime format."
   ],
   "metadata": {
    "collapsed": false,
    "ExecuteTime": {
     "end_time": "2024-02-07T11:57:28.126546100Z",
     "start_time": "2024-02-07T11:57:27.970601800Z"
    }
   },
   "id": "b7aa1c05f131942b",
   "execution_count": 27
  },
  {
   "cell_type": "code",
   "outputs": [
    {
     "name": "stdout",
     "output_type": "stream",
     "text": [
      "genres                  object\n",
      "id                       int64\n",
      "title                   object\n",
      "overview                object\n",
      "release_date    datetime64[ns]\n",
      "userId                   int64\n",
      "rating                 float64\n",
      "dtype: object\n"
     ]
    }
   ],
   "source": [
    "print(merged_df.dtypes)"
   ],
   "metadata": {
    "collapsed": false,
    "ExecuteTime": {
     "end_time": "2024-02-07T11:57:35.653135300Z",
     "start_time": "2024-02-07T11:57:35.618208600Z"
    }
   },
   "id": "9117c611021a1df4",
   "execution_count": 28
  },
  {
   "cell_type": "code",
   "outputs": [],
   "source": [
    "#In this step I want to clean my DataFrame by removing punctuations and special characters in these three columns: genres, title and overview (because it is text data).\n",
    "\n",
    "import re #In order to make it work I need the Regular expression library ( standard library in Python) which is used to remove special characters and punctuation from text. \n",
    "\n",
    "merged_df['genres'] = merged_df['genres'].str.lower()\n",
    "merged_df['title'] = merged_df['title'].str.lower()\n",
    "merged_df['overview'] = merged_df['overview'].str.lower()\n",
    "\n",
    "#Here I am converting the string to lowercase.\n",
    "\n",
    "merged_df['genres'] = merged_df['genres'].apply(lambda x: re.sub(r'[^a-zA-Z0-9\\s]', '', x))\n",
    "merged_df['title'] = merged_df['title'].apply(lambda x: re.sub(r'[^a-zA-Z0-9\\s]', '', x ))\n",
    "merged_df['overview'] = merged_df['overview'].apply(lambda x: re.sub(r'[^a-zA-Z0-9\\s]', '', x ))\n",
    "\n",
    "#Here I am removing any characters in the genres, title and overview columns that are not letters or digits (0-9). It will also remove whitespace characters (line breaks, spaces, tabs).\n",
    "\n",
    "\n",
    "\n",
    "\n",
    "\n"
   ],
   "metadata": {
    "collapsed": false,
    "ExecuteTime": {
     "end_time": "2024-02-07T11:58:05.714465900Z",
     "start_time": "2024-02-07T11:58:05.703369700Z"
    }
   },
   "id": "f62f5e4286a2b235",
   "execution_count": 29
  },
  {
   "cell_type": "code",
   "outputs": [
    {
     "name": "stdout",
     "output_type": "stream",
     "text": [
      "0    action\n",
      "1    action\n",
      "2    action\n",
      "3    action\n",
      "4    action\n",
      "Name: genres, dtype: object\n"
     ]
    }
   ],
   "source": [
    "print(merged_df['genres'].head())  #Just checking if the string is lowercase now."
   ],
   "metadata": {
    "collapsed": false,
    "ExecuteTime": {
     "end_time": "2024-02-07T11:58:12.880633Z",
     "start_time": "2024-02-07T11:58:12.864321300Z"
    }
   },
   "id": "a5a002eec95c188b",
   "execution_count": 30
  },
  {
   "cell_type": "code",
   "outputs": [
    {
     "name": "stdout",
     "output_type": "stream",
     "text": [
      "0    obsessive master thief neil mccauley leads a t...\n",
      "1    obsessive master thief neil mccauley leads a t...\n",
      "2    obsessive master thief neil mccauley leads a t...\n",
      "3    obsessive master thief neil mccauley leads a t...\n",
      "4    obsessive master thief neil mccauley leads a t...\n",
      "Name: overview, dtype: object\n"
     ]
    }
   ],
   "source": [
    "print(merged_df['overview'].head()) #Checking that special characters and punctuations are gone. And here I see that there are no commas for example left in the overview text. So it worked. "
   ],
   "metadata": {
    "collapsed": false,
    "ExecuteTime": {
     "end_time": "2024-02-07T11:58:39.119580800Z",
     "start_time": "2024-02-07T11:58:39.100589900Z"
    }
   },
   "id": "949ec37c95b23d44",
   "execution_count": 31
  },
  {
   "cell_type": "code",
   "outputs": [],
   "source": [
    "#Now in my last step I want to save my merged_df DataFrame as a csv file using the to_csv method. I was thinking instead of saving it and creating a new csv file, to instead just overwrite the existing merged_data-csv file, but I do not want to take the risk. \n",
    "\n",
    "merged_df.to_csv('final__cleaned_data.csv',index = False )"
   ],
   "metadata": {
    "collapsed": false,
    "ExecuteTime": {
     "end_time": "2024-02-07T11:58:53.182215400Z",
     "start_time": "2024-02-07T11:58:53.160533700Z"
    }
   },
   "id": "ae4b9576a0fb07c4",
   "execution_count": 32
  },
  {
   "cell_type": "code",
   "outputs": [
    {
     "name": "stdout",
     "output_type": "stream",
     "text": [
      "   genres   id title                                           overview  \\\n",
      "0  action  949  heat  obsessive master thief neil mccauley leads a t...   \n",
      "1  action  949  heat  obsessive master thief neil mccauley leads a t...   \n",
      "2  action  949  heat  obsessive master thief neil mccauley leads a t...   \n",
      "3  action  949  heat  obsessive master thief neil mccauley leads a t...   \n",
      "4  action  949  heat  obsessive master thief neil mccauley leads a t...   \n",
      "\n",
      "  release_date  userId  rating  \n",
      "0   1995-12-15      23     3.5  \n",
      "1   1995-12-15     102     4.0  \n",
      "2   1995-12-15     232     2.0  \n",
      "3   1995-12-15     242     5.0  \n",
      "4   1995-12-15     263     3.0  \n"
     ]
    }
   ],
   "source": [
    "#Now I will check if it worked.\n",
    "\n",
    "final_df = pd.read_csv('final__cleaned_data.csv')\n",
    "\n",
    "print(final_df.head())"
   ],
   "metadata": {
    "collapsed": false,
    "ExecuteTime": {
     "end_time": "2024-02-07T11:59:03.634296400Z",
     "start_time": "2024-02-07T11:59:03.582237300Z"
    }
   },
   "id": "43155d956092b818",
   "execution_count": 33
  },
  {
   "cell_type": "code",
   "outputs": [
    {
     "name": "stdout",
     "output_type": "stream",
     "text": [
      "(327, 7)\n"
     ]
    }
   ],
   "source": [
    "print(final_df.shape)  "
   ],
   "metadata": {
    "collapsed": false,
    "ExecuteTime": {
     "end_time": "2024-02-07T11:59:17.270723Z",
     "start_time": "2024-02-07T11:59:17.228865700Z"
    }
   },
   "id": "fab8d7abb8a98833",
   "execution_count": 34
  },
  {
   "cell_type": "code",
   "outputs": [],
   "source": [],
   "metadata": {
    "collapsed": false
   },
   "id": "d5bd661d6095fabb"
  }
 ],
 "metadata": {
  "kernelspec": {
   "display_name": "Python 3",
   "language": "python",
   "name": "python3"
  },
  "language_info": {
   "codemirror_mode": {
    "name": "ipython",
    "version": 2
   },
   "file_extension": ".py",
   "mimetype": "text/x-python",
   "name": "python",
   "nbconvert_exporter": "python",
   "pygments_lexer": "ipython2",
   "version": "2.7.6"
  }
 },
 "nbformat": 4,
 "nbformat_minor": 5
}
